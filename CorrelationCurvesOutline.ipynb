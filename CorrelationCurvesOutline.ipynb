{
 "cells": [
  {
   "cell_type": "code",
   "execution_count": null,
   "metadata": {},
   "outputs": [],
   "source": [
    "import numpy as np \n",
    "import matplotlib.pyplot as plt\n",
    "import scipy.optimize as opt"
   ]
  },
  {
   "cell_type": "code",
   "execution_count": null,
   "metadata": {},
   "outputs": [],
   "source": [
    "#Graphing our data\n",
    "filemAme = 'Unentangled'\n",
    "CoinData = np.loadtxt(filemAme+'.txt', skiprows = 4, dtype=int)\n",
    "CoinData = np.transpose(CoinData)\n",
    "plt.plot(CoinData[0],CoinData[1],CoinData[0],CoinData[2],CoinData[0],CoinData[3],CoinData[0],CoinData[4])\n",
    "plt.legend(['H','+45','V','-45'], title = \"Polarizer 1 Angle\")\n",
    "plt.xlabel(\"Polarizer 2 Angle Degrees\")\n",
    "plt.ylabel(\"01 Coincidence Rates/1000ms\")\n",
    "plt.title(\"Correlation Curves (Coincidence Rates) for \"+ filemAme)"
   ]
  },
  {
   "cell_type": "code",
   "execution_count": null,
   "metadata": {},
   "outputs": [],
   "source": [
    "#This inserts .5 degree averages between two data points since the quED does not measure <1 degree\n",
    "\n",
    "Angles = []\n",
    "hA = CoinData[1]\n",
    "pA = CoinData[2]\n",
    "vA = CoinData[3]\n",
    "mA = CoinData[4]\n",
    "\n",
    "lastC = CoinData[0][0]\n",
    "for c in CoinData[0]:\n",
    "    Angles.append((c+lastC)/2)\n",
    "    Angles.append(c)\n",
    "    lastC = c\n",
    "Angles = np.array(Angles[1:])\n",
    "\n"
   ]
  },
  {
   "cell_type": "code",
   "execution_count": null,
   "metadata": {},
   "outputs": [],
   "source": [
    "#Find index of Bell angles\n",
    "Pol2Angles = [22.5,67.5,112.5,157.5] #Bell Angles\n",
    "I = [] #Index Array\n",
    "for angle in Pol2Angles:\n",
    "    I = np.append(I, np.where(Angles==angle)[0]) #Find those angles\n",
    "I = np.int_(I)\n",
    "\n",
    "#Example plot of where the Bell Angles are"
   ]
  },
  {
   "cell_type": "code",
   "execution_count": null,
   "metadata": {},
   "outputs": [],
   "source": [
    "#Scipy fit\n",
    "Bases = [hA,pA,vA,mA]\n",
    "rad = np.pi*CoinData[0]/180 #convert to radians"
   ]
  },
  {
   "cell_type": "code",
   "execution_count": null,
   "metadata": {},
   "outputs": [],
   "source": [
    "#Theoretical curve to fit our data to. This should have parameters for an x value and any fit parameters you need\n",
    "def QMCoincidences( ):\n",
    "    return \n",
    "\n",
    "#Optimize the parameters of the cos2 function to fit our data\n",
    "paramH, covH = opt.curve_fit(QMCoincidences, rad, Bases[0])\n",
    "paramP, covP = opt.curve_fit(QMCoincidences, rad, Bases[1])\n",
    "paramV, covV = opt.curve_fit(QMCoincidences, rad, Bases[2])\n",
    "paramN, covN = opt.curve_fit(QMCoincidences, rad, Bases[3])\n",
    "\n",
    "#Plot the curves with fitted data\n"
   ]
  },
  {
   "cell_type": "code",
   "execution_count": null,
   "metadata": {},
   "outputs": [],
   "source": [
    "#Residual graphs\n",
    "\n",
    "Hres = Bases[0]-QMCoincidences(rad, paramH[0], paramH[1], paramH[2])\n",
    "Pres = Bases[1]-QMCoincidences(rad, paramP[0], paramP[1], paramP[2])\n",
    "Vres = Bases[2]-QMCoincidences(rad, paramV[0], paramV[1], paramV[2])\n",
    "Nres = Bases[3]-QMCoincidences(rad, paramN[0], paramN[1], paramN[2])\n",
    "\n",
    "#Closeness of fit\n",
    "\n",
    "#Plot the residuals\n"
   ]
  },
  {
   "cell_type": "code",
   "execution_count": null,
   "metadata": {},
   "outputs": [],
   "source": [
    "#Use Fit Data and Bell Angles to calculate E and S using coincidence data \n",
    "rad = np.pi*Angles/180\n",
    "\n",
    "h1,h2,h3,h4 = QMCoincidences(rad[I], ) #Include the parameters used in your fit\n",
    "p1,p2,p3,p4 = QMCoincidences(rad[I], ) \n",
    "v1,v2,v3,v4 = QMCoincidences(rad[I], ) \n",
    "n1,n2,n3,n4 = QMCoincidences(rad[I], )\n",
    "\n",
    "#Calculate the expectation values. In addition to the formula from the prelab, you will need to \n",
    "#normalize the data since E takes probabilities as an input\n",
    "E1 =\n",
    "E2 = \n",
    "E3 = \n",
    "E4 =\n",
    "\n",
    "S = \n",
    "print(S)"
   ]
  },
  {
   "cell_type": "code",
   "execution_count": null,
   "metadata": {},
   "outputs": [],
   "source": [
    "#Uncertainty calculations using the formula discussed in the procedure\n",
    "\n"
   ]
  }
 ],
 "metadata": {
  "kernelspec": {
   "display_name": "Python 3",
   "language": "python",
   "name": "python3"
  },
  "language_info": {
   "codemirror_mode": {
    "name": "ipython",
    "version": 3
   },
   "file_extension": ".py",
   "mimetype": "text/x-python",
   "name": "python",
   "nbconvert_exporter": "python",
   "pygments_lexer": "ipython3",
   "version": "3.9.13"
  }
 },
 "nbformat": 4,
 "nbformat_minor": 2
}
