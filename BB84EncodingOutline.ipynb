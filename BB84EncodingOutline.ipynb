{
 "cells": [
  {
   "cell_type": "code",
   "execution_count": null,
   "metadata": {},
   "outputs": [],
   "source": [
    "#Import an image\n",
    "import numpy as np \n",
    "from matplotlib import pyplot as plt\n",
    "from PIL import Image\n",
    "\n",
    "img = Image.open('    ')\n",
    "\n",
    "#set when to be black or white\n",
    "threshold = 7 #this may vary depending on your image\n",
    "\n",
    "#convert image to a list of pixels\n",
    "pixels = list(img.getdata())\n",
    "print(pixels)\n",
    "\n",
    "#convert data list to contain only black or white\n",
    "newPixels = []\n",
    "for pixel in pixels:\n",
    "    # if looks like black, convert to black\n",
    "    if pixel[0] <= threshold:\n",
    "        newPixel = 1\n",
    "    # if looks like white, convert to white\n",
    "    else:\n",
    "        newPixel = 0\n",
    "    newPixels.append(newPixel)\n",
    "\n",
    "#convert new pixels back to an image\n",
    "newImg = Image.new(img.mode, img.size)\n",
    "array = np.reshape(newPixels, img.size)\n",
    "\n",
    "#print the new black and white image\n",
    "plt.imshow(array, interpolation='nearest')\n",
    "plt.show()\n",
    "np.printoptions(precision=1)\n",
    "np.savetxt('test_data.txt',array)"
   ]
  },
  {
   "cell_type": "code",
   "execution_count": null,
   "metadata": {},
   "outputs": [],
   "source": [
    "#Import keys\n",
    "\n",
    "Akey = []\n",
    "\n",
    "\n",
    "#print(Akey)\n",
    "\n",
    "Bkey = []\n",
    "\n",
    "\n",
    "#print(Bkey)\n"
   ]
  },
  {
   "cell_type": "code",
   "execution_count": null,
   "metadata": {},
   "outputs": [],
   "source": [
    "#Encode the image as Alice\n",
    "\n",
    "\n",
    "\n",
    "#Decode the image as Alice\n",
    "\n",
    "\n",
    "\n",
    "#Decode the image as Bob\n",
    "\n"
   ]
  },
  {
   "cell_type": "code",
   "execution_count": null,
   "metadata": {},
   "outputs": [],
   "source": [
    "#Space for analysis of errors\n",
    "\n"
   ]
  }
 ],
 "metadata": {
  "kernelspec": {
   "display_name": "Python 3",
   "language": "python",
   "name": "python3"
  },
  "language_info": {
   "codemirror_mode": {
    "name": "ipython",
    "version": 3
   },
   "file_extension": ".py",
   "mimetype": "text/x-python",
   "name": "python",
   "nbconvert_exporter": "python",
   "pygments_lexer": "ipython3",
   "version": "3.9.13"
  },
  "orig_nbformat": 4
 },
 "nbformat": 4,
 "nbformat_minor": 2
}
